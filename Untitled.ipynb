{
 "cells": [
  {
   "cell_type": "markdown",
   "metadata": {
    "id": "H05XJmfk2KTb"
   },
   "source": [
    "$ t_{43} = t_0 * 2^{43} $\n",
    "\n",
    "$ t_0 = 0.00008 m $\n",
    "\n",
    "[Problem 1] Create using the exponentiation arithmetic operator and "
   ]
  },
  {
   "cell_type": "code",
   "execution_count": 9,
   "metadata": {
    "colab": {
     "base_uri": "https://localhost:8080/"
    },
    "id": "HDlhGWRv2J5w",
    "outputId": "7218e312-86f9-4b54-daab-f5012415f20b"
   },
   "outputs": [
    {
     "name": "stdout",
     "output_type": "stream",
     "text": [
      "Thickness: 703687441.77664 meters\n",
      "Thickness:  70368.74 kilometers\n"
     ]
    }
   ],
   "source": [
    "THICKNESS = 0.00008\n",
    "\n",
    "folded_thickness = THICKNESS * 2**44\n",
    "print(\"Thickness: {} meters\".format(folded_thickness))\n",
    "\n",
    "\n"
   ]
  },
  {
   "cell_type": "markdown",
   "metadata": {},
   "source": [
    "[Problem 2] Unit Conversion"
   ]
  },
  {
   "cell_type": "code",
   "execution_count": null,
   "metadata": {},
   "outputs": [],
   "source": [
    "print(\"Thickness: {: .2f} kilometers\".format(folded_thickness/10000))"
   ]
  },
  {
   "cell_type": "markdown",
   "metadata": {
    "id": "DvWwMc_wipfS"
   },
   "source": [
    "\n",
    "**[Problem 3] Create using a for statement**\n",
    "\n",
    "$2^3=2×2×2$\n",
    "\n",
    "$2^5=2×2×2×2×2$"
   ]
  },
  {
   "cell_type": "code",
   "execution_count": 6,
   "metadata": {
    "colab": {
     "base_uri": "https://localhost:8080/"
    },
    "id": "48vhjVfAjKUI",
    "outputId": "758f57f5-e057-4597-8efc-fd680e362ce6"
   },
   "outputs": [
    {
     "name": "stdout",
     "output_type": "stream",
     "text": [
      "8796093022208\n",
      "8796093022208\n",
      "703687441.77664\n"
     ]
    }
   ],
   "source": [
    "THICKNESS = 0.00008\n",
    " = 1 \n",
    "for x in range(43):\n",
    "  a = a * 2 \n",
    "folded_thickness = a * THICKNESS \n",
    "print(a)\n",
    "print(2**43)\n",
    "print(folded_thickness)"
   ]
  },
  {
   "cell_type": "markdown",
   "metadata": {},
   "source": [
    "Problem 4 Comparison of calculation time"
   ]
  },
  {
   "cell_type": "code",
   "execution_count": 1,
   "metadata": {},
   "outputs": [
    {
     "name": "stdout",
     "output_type": "stream",
     "text": [
      "time : 9.465217590332031e-05[s]\n"
     ]
    }
   ],
   "source": [
    "import time\n",
    "start = time.time()\n",
    "#####\n",
    "# Paste the code you want to compare here\n",
    "#####\n",
    "elapsed_time = time.time() - start\n",
    "print(\"time : {}[s]\".format(elapsed_time))"
   ]
  },
  {
   "cell_type": "markdown",
   "metadata": {},
   "source": [
    "[Problem 5] Saving to a list and  \n",
    "Generalizing the formula, the thickness of n-folded paper $ t_{n} $ can be expressed as follows. \n",
    "$ t_n = t_0 * 2^n $\n"
   ]
  },
  {
   "cell_type": "code",
   "execution_count": null,
   "metadata": {},
   "outputs": [],
   "source": [
    "THICKNESS = 0.00008\n",
    "list_n = []\n",
    "n = 44\n",
    "a = 1\n",
    "t =1 \n",
    "for x in range(44):\n",
    "    list_n.append(x)\n",
    "\n",
    "for x in list_n:\n",
    "    a = a * 2 \n",
    "    t = THICKNESS * a\n",
    "    list_n[x] = t\n",
    "print(list_n)"
   ]
  },
  {
   "cell_type": "markdown",
   "metadata": {},
   "source": [
    "[Problem 6] Displaying a line graph"
   ]
  },
  {
   "cell_type": "code",
   "execution_count": 52,
   "metadata": {},
   "outputs": [
    {
     "data": {
      "image/png": "[encoded data removed]",
      "text/plain": [
       "<Figure size 432x288 with 1 Axes>"
      ]
     },
     "metadata": {
      "needs_background": "light"
     },
     "output_type": "display_data"
    }
   ],
   "source": [
    "\"\"\"\n",
    "Display the graph. Title and axis label name.\n",
    "\"\"\"\n",
    "import matplotlib.pyplot as plt\n",
    "%matplotlib inline\n",
    "\n",
    "plt.title(\"thickness of folded paper\")\n",
    "plt.xlabel(\"number of folds\")\n",
    "plt.ylabel(\"thickness[m]\")\n",
    "\n",
    "plt.tick_params(labelsize=10 )\n",
    "plt.plot(list_n ,color='blue' , linewidth=2 ,linestyle='dashed',markersize=12) # Enter the variable name of the list in \"List name\"\n",
    "plt.show()"
   ]
  },
  {
   "cell_type": "markdown",
   "metadata": {},
   "source": [
    "[Problem 7] Customizing graphs"
   ]
  }
 ],
 "metadata": {
  "colab": {
   "name": "Untitled",
   "provenance": []
  },
  "kernelspec": {
   "display_name": "Python 3",
   "language": "python",
   "name": "python3"
  },
  "language_info": {
   "codemirror_mode": {
    "name": "ipython",
    "version": 3
   },
   "file_extension": ".py",
   "mimetype": "text/x-python",
   "name": "python",
   "nbconvert_exporter": "python",
   "pygments_lexer": "ipython3",
   "version": "3.8.5"
  }
 },
 "nbformat": 4,
 "nbformat_minor": 1
}
