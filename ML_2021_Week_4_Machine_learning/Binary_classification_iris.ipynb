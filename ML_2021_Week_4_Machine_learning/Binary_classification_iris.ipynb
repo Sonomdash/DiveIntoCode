{
 "cells": [
  {
   "cell_type": "markdown",
   "id": "91fd2340",
   "metadata": {},
   "source": [
    "[Problem 1] Select features and categories for practice\n",
    "\n",
    "Setosa is 0, versicolor 1 and virginica 2"
   ]
  },
  {
   "cell_type": "code",
   "execution_count": 32,
   "id": "e9ca51f3",
   "metadata": {},
   "outputs": [
    {
     "data": {
      "text/html": [
       "<div>\n",
       "<style scoped>\n",
       "    .dataframe tbody tr th:only-of-type {\n",
       "        vertical-align: middle;\n",
       "    }\n",
       "\n",
       "    .dataframe tbody tr th {\n",
       "        vertical-align: top;\n",
       "    }\n",
       "\n",
       "    .dataframe thead th {\n",
       "        text-align: right;\n",
       "    }\n",
       "</style>\n",
       "<table border=\"1\" class=\"dataframe\">\n",
       "  <thead>\n",
       "    <tr style=\"text-align: right;\">\n",
       "      <th></th>\n",
       "      <th>sepal_length</th>\n",
       "      <th>petal_length</th>\n",
       "    </tr>\n",
       "  </thead>\n",
       "  <tbody>\n",
       "    <tr>\n",
       "      <th>0</th>\n",
       "      <td>7.0</td>\n",
       "      <td>4.7</td>\n",
       "    </tr>\n",
       "    <tr>\n",
       "      <th>1</th>\n",
       "      <td>6.4</td>\n",
       "      <td>4.5</td>\n",
       "    </tr>\n",
       "    <tr>\n",
       "      <th>2</th>\n",
       "      <td>6.9</td>\n",
       "      <td>4.9</td>\n",
       "    </tr>\n",
       "    <tr>\n",
       "      <th>3</th>\n",
       "      <td>5.5</td>\n",
       "      <td>4.0</td>\n",
       "    </tr>\n",
       "    <tr>\n",
       "      <th>4</th>\n",
       "      <td>6.5</td>\n",
       "      <td>4.6</td>\n",
       "    </tr>\n",
       "    <tr>\n",
       "      <th>...</th>\n",
       "      <td>...</td>\n",
       "      <td>...</td>\n",
       "    </tr>\n",
       "    <tr>\n",
       "      <th>95</th>\n",
       "      <td>6.7</td>\n",
       "      <td>5.2</td>\n",
       "    </tr>\n",
       "    <tr>\n",
       "      <th>96</th>\n",
       "      <td>6.3</td>\n",
       "      <td>5.0</td>\n",
       "    </tr>\n",
       "    <tr>\n",
       "      <th>97</th>\n",
       "      <td>6.5</td>\n",
       "      <td>5.2</td>\n",
       "    </tr>\n",
       "    <tr>\n",
       "      <th>98</th>\n",
       "      <td>6.2</td>\n",
       "      <td>5.4</td>\n",
       "    </tr>\n",
       "    <tr>\n",
       "      <th>99</th>\n",
       "      <td>5.9</td>\n",
       "      <td>5.1</td>\n",
       "    </tr>\n",
       "  </tbody>\n",
       "</table>\n",
       "<p>100 rows × 2 columns</p>\n",
       "</div>"
      ],
      "text/plain": [
       "    sepal_length  petal_length\n",
       "0            7.0           4.7\n",
       "1            6.4           4.5\n",
       "2            6.9           4.9\n",
       "3            5.5           4.0\n",
       "4            6.5           4.6\n",
       "..           ...           ...\n",
       "95           6.7           5.2\n",
       "96           6.3           5.0\n",
       "97           6.5           5.2\n",
       "98           6.2           5.4\n",
       "99           5.9           5.1\n",
       "\n",
       "[100 rows x 2 columns]"
      ]
     },
     "execution_count": 32,
     "metadata": {},
     "output_type": "execute_result"
    }
   ],
   "source": [
    "from sklearn.datasets import load_iris\n",
    "import pandas as pd\n",
    "import numpy as np\n",
    "from matplotlib import pyplot as plt\n",
    "first_data = load_iris()\n",
    "data = first_data.data[50:]\n",
    "first_x = pd.DataFrame(data,\n",
    "                   columns=['sepal_length', 'sepal_width', 'petal_length','petal_width'])\n",
    "\n",
    "sepal_length_data = first_x['sepal_length']\n",
    "petal_length_data = first_x['petal_length']\n",
    "\n",
    "total_data = np.stack((sepal_length_data, petal_length_data), axis=-1)\n",
    "first_y = pd.DataFrame(total_data,\n",
    "                   columns=['sepal_length', 'petal_length'])\n",
    "first_y"
   ]
  },
  {
   "cell_type": "markdown",
   "id": "de722484",
   "metadata": {},
   "source": [
    "[Problem 2] Data analysis\n",
    "\n"
   ]
  },
  {
   "cell_type": "code",
   "execution_count": 33,
   "id": "2214e0c9",
   "metadata": {},
   "outputs": [
    {
     "name": "stdout",
     "output_type": "stream",
     "text": [
      "Virgicolor  sepal_length and petal_length data\n"
     ]
    },
    {
     "data": {
      "image/png": "[encoded data removed]",
      "text/plain": [
       "<Figure size 432x288 with 1 Axes>"
      ]
     },
     "metadata": {
      "needs_background": "light"
     },
     "output_type": "display_data"
    },
    {
     "data": {
      "image/png": "[encoded data removed]",
      "text/plain": [
       "<Figure size 432x288 with 1 Axes>"
      ]
     },
     "metadata": {
      "needs_background": "light"
     },
     "output_type": "display_data"
    },
    {
     "data": {
      "image/png": "[encoded data removed]",
      "text/plain": [
       "<Figure size 432x288 with 1 Axes>"
      ]
     },
     "metadata": {
      "needs_background": "light"
     },
     "output_type": "display_data"
    }
   ],
   "source": [
    "print(\"Virgicolor  sepal_length and petal_length data\")\n",
    "\n",
    "virgicolor_data = total_data[:50]\n",
    "pd.DataFrame(virgicolor_data,\n",
    "                   columns=['sepal_length', 'petal_length'])\n",
    "virgicolor_x = virgicolor_data[:,0]\n",
    "virgicolor_y = virgicolor_data[:,1]\n",
    "plt.title(\"Virgicolor\")\n",
    "plt.xlabel(\"sepal_length\")\n",
    "plt.ylabel(\"petal_length\")\n",
    "plt.scatter(virgicolor_x,virgicolor_y)\n",
    "\n",
    "plt.show()\n",
    "plt.boxplot(virgicolor_data)\n",
    "plt.show()\n",
    "plt.violinplot(virgicolor_data)\n",
    "plt.show()"
   ]
  },
  {
   "cell_type": "code",
   "execution_count": 34,
   "id": "2250dd07",
   "metadata": {},
   "outputs": [
    {
     "name": "stdout",
     "output_type": "stream",
     "text": [
      "Virginica  sepal_length and petal_length data\n"
     ]
    },
    {
     "data": {
      "image/png": "[encoded data removed]",
      "text/plain": [
       "<Figure size 432x288 with 1 Axes>"
      ]
     },
     "metadata": {
      "needs_background": "light"
     },
     "output_type": "display_data"
    },
    {
     "data": {
      "image/png": "[encoded data removed]",
      "text/plain": [
       "<Figure size 432x288 with 1 Axes>"
      ]
     },
     "metadata": {
      "needs_background": "light"
     },
     "output_type": "display_data"
    },
    {
     "data": {
      "image/png": "[encoded data removed]",
      "text/plain": [
       "<Figure size 432x288 with 1 Axes>"
      ]
     },
     "metadata": {
      "needs_background": "light"
     },
     "output_type": "display_data"
    }
   ],
   "source": [
    "print(\"Virginica  sepal_length and petal_length data\")\n",
    "virginica_data = total_data[50:]\n",
    "pd.DataFrame(virginica_data,\n",
    "                   columns=['sepal_length', 'petal_length'])\n",
    "virginica_x = virginica_data[:,0]\n",
    "virginica_y = virginica_data[:,1]\n",
    "plt.title(\"Virginica\")\n",
    "plt.xlabel(\"sepal_length\")\n",
    "plt.ylabel(\"petal_length\")\n",
    "plt.scatter(virginica_x,virginica_y)\n",
    "\n",
    "plt.show()\n",
    "plt.boxplot(virginica_data)\n",
    "plt.show()\n",
    "plt.violinplot(virginica_data)\n",
    "plt.show()"
   ]
  },
  {
   "cell_type": "markdown",
   "id": "7347a6f2",
   "metadata": {},
   "source": [
    "[Problem 3] Division of preprocessing/training data and verification data"
   ]
  },
  {
   "cell_type": "code",
   "execution_count": 72,
   "id": "477ec343",
   "metadata": {},
   "outputs": [
    {
     "data": {
      "text/plain": [
       "(array([[6.1, 4.7],\n",
       "        [6.2, 4.5],\n",
       "        [6.3, 5.1],\n",
       "        [5.8, 5.1],\n",
       "        [6.2, 4.3],\n",
       "        [6.3, 6. ],\n",
       "        [6.5, 5.2],\n",
       "        [5.9, 4.8],\n",
       "        [6.8, 5.9],\n",
       "        [6.7, 5.2],\n",
       "        [6. , 4.5],\n",
       "        [5.8, 4.1],\n",
       "        [5.7, 3.5],\n",
       "        [5.5, 3.7],\n",
       "        [7.7, 6.7],\n",
       "        [5.9, 4.2],\n",
       "        [5.5, 3.8],\n",
       "        [7.2, 6.1],\n",
       "        [6.7, 5.6],\n",
       "        [6.5, 5.5],\n",
       "        [5.5, 4. ],\n",
       "        [5.2, 3.9],\n",
       "        [6.5, 4.6],\n",
       "        [7.2, 6. ],\n",
       "        [6.4, 5.6],\n",
       "        [6.1, 4.9],\n",
       "        [6.7, 5. ],\n",
       "        [5.7, 4.5],\n",
       "        [5.6, 4.2],\n",
       "        [5.5, 4. ],\n",
       "        [6. , 4. ],\n",
       "        [6.4, 5.6],\n",
       "        [5.7, 5. ],\n",
       "        [6.1, 4.6],\n",
       "        [6.4, 4.5],\n",
       "        [6.3, 4.9],\n",
       "        [6. , 5.1],\n",
       "        [5.5, 4.4],\n",
       "        [6.1, 4.7],\n",
       "        [7.7, 6.7],\n",
       "        [6.2, 4.8],\n",
       "        [7.2, 5.8],\n",
       "        [7.4, 6.1],\n",
       "        [6.8, 5.5],\n",
       "        [6.4, 5.5],\n",
       "        [6.9, 5.4],\n",
       "        [6.3, 5.6],\n",
       "        [5. , 3.5],\n",
       "        [7.7, 6.1],\n",
       "        [5.6, 3.6],\n",
       "        [6.7, 5.8],\n",
       "        [7.3, 6.3],\n",
       "        [6.7, 5.7],\n",
       "        [7. , 4.7],\n",
       "        [6.5, 5.1],\n",
       "        [5.6, 4.5],\n",
       "        [6.3, 5. ],\n",
       "        [5.1, 3. ],\n",
       "        [7.1, 5.9],\n",
       "        [5.8, 4. ],\n",
       "        [5.6, 4.1],\n",
       "        [6.6, 4.4],\n",
       "        [5. , 3.3],\n",
       "        [6.4, 5.3],\n",
       "        [6.7, 5.7],\n",
       "        [7.6, 6.6],\n",
       "        [5.6, 4.9],\n",
       "        [6.2, 5.4],\n",
       "        [5.4, 4.5],\n",
       "        [6.9, 5.7],\n",
       "        [6.8, 4.8],\n",
       "        [5.8, 5.1],\n",
       "        [6.6, 4.6],\n",
       "        [7.9, 6.4],\n",
       "        [5.6, 3.9]]),\n",
       " array([[6.7, 4.7],\n",
       "        [4.9, 3.3],\n",
       "        [6.3, 4.7],\n",
       "        [5.7, 4.2],\n",
       "        [4.9, 4.5],\n",
       "        [6.5, 5.8],\n",
       "        [6.3, 4.9],\n",
       "        [6.3, 4.4],\n",
       "        [6.3, 5.6],\n",
       "        [7.7, 6.9],\n",
       "        [6.9, 4.9],\n",
       "        [6.1, 5.6],\n",
       "        [6.4, 5.3],\n",
       "        [6. , 4.8],\n",
       "        [5.9, 5.1],\n",
       "        [5.7, 4.1],\n",
       "        [5.8, 5.1],\n",
       "        [6.9, 5.1],\n",
       "        [6. , 4.5],\n",
       "        [6.7, 4.4],\n",
       "        [6.4, 4.3],\n",
       "        [5.8, 3.9],\n",
       "        [6. , 5. ],\n",
       "        [5.7, 4.2],\n",
       "        [6.1, 4. ]]),\n",
       " [13,\n",
       "  18,\n",
       "  83,\n",
       "  51,\n",
       "  47,\n",
       "  50,\n",
       "  97,\n",
       "  20,\n",
       "  93,\n",
       "  95,\n",
       "  35,\n",
       "  17,\n",
       "  29,\n",
       "  31,\n",
       "  72,\n",
       "  11,\n",
       "  30,\n",
       "  59,\n",
       "  90,\n",
       "  66,\n",
       "  3,\n",
       "  9,\n",
       "  4,\n",
       "  75,\n",
       "  78,\n",
       "  77,\n",
       "  27,\n",
       "  5,\n",
       "  44,\n",
       "  39,\n",
       "  12,\n",
       "  82,\n",
       "  63,\n",
       "  41,\n",
       "  1,\n",
       "  73,\n",
       "  33,\n",
       "  40,\n",
       "  23,\n",
       "  67,\n",
       "  76,\n",
       "  79,\n",
       "  80,\n",
       "  62,\n",
       "  87,\n",
       "  89,\n",
       "  86,\n",
       "  10,\n",
       "  85,\n",
       "  14,\n",
       "  58,\n",
       "  57,\n",
       "  74,\n",
       "  0,\n",
       "  60,\n",
       "  16,\n",
       "  96,\n",
       "  48,\n",
       "  52,\n",
       "  42,\n",
       "  38,\n",
       "  25,\n",
       "  43,\n",
       "  61,\n",
       "  94,\n",
       "  55,\n",
       "  71,\n",
       "  98,\n",
       "  34,\n",
       "  70,\n",
       "  26,\n",
       "  64,\n",
       "  8,\n",
       "  81,\n",
       "  19],\n",
       " [36,\n",
       "  7,\n",
       "  6,\n",
       "  45,\n",
       "  56,\n",
       "  54,\n",
       "  22,\n",
       "  37,\n",
       "  53,\n",
       "  68,\n",
       "  2,\n",
       "  84,\n",
       "  65,\n",
       "  88,\n",
       "  99,\n",
       "  49,\n",
       "  92,\n",
       "  91,\n",
       "  28,\n",
       "  15,\n",
       "  24,\n",
       "  32,\n",
       "  69,\n",
       "  46,\n",
       "  21])"
      ]
     },
     "execution_count": 72,
     "metadata": {},
     "output_type": "execute_result"
    }
   ],
   "source": [
    "from sklearn.model_selection import train_test_split\n",
    "y = range(100)\n",
    "X_train, X_test, y_train, y_test = train_test_split(total_data,y,test_size=0.25, random_state=75)\n",
    "X_train, X_test, y_train, y_test"
   ]
  },
  {
   "cell_type": "markdown",
   "id": "51d38726",
   "metadata": {},
   "source": [
    "[Problem 4] Pretreatment/Standardization"
   ]
  },
  {
   "cell_type": "code",
   "execution_count": 59,
   "id": "dd31eedd",
   "metadata": {},
   "outputs": [
    {
     "name": "stdout",
     "output_type": "stream",
     "text": [
      "StandardScaler()\n",
      "[6.262 4.906]\n",
      "------------------------\n",
      "[[ 1.11900931 -0.25077906]\n",
      " [ 0.20924564 -0.49425387]\n",
      " [ 0.96738203 -0.00730424]\n",
      " [-1.15539985 -1.10294091]\n",
      " [ 0.36087292 -0.37251647]\n",
      " [-0.8521453  -0.49425387]\n",
      " [ 0.05761837 -0.25077906]\n",
      " [-2.06516352 -1.95510276]\n",
      " [ 0.5125002  -0.37251647]\n",
      " [-1.61028169 -1.22467832]\n",
      " [-1.91353624 -1.71162795]\n",
      " [-0.54889074 -0.8594661 ]\n",
      " [-0.39726347 -1.10294091]\n",
      " [-0.24563619 -0.25077906]\n",
      " [-1.00377258 -1.58989054]\n",
      " [ 0.66412748 -0.61599128]\n",
      " [-1.00377258 -0.49425387]\n",
      " [-0.70051802 -0.9812035 ]\n",
      " [-0.09400891 -0.49425387]\n",
      " [-1.00377258 -1.22467832]\n",
      " [-0.54889074 -0.12904165]\n",
      " [-0.24563619 -1.10294091]\n",
      " [ 0.05761837 -0.00730424]\n",
      " [-0.24563619 -0.25077906]\n",
      " [ 0.20924564 -0.73772869]\n",
      " [ 0.5125002  -0.61599128]\n",
      " [ 0.81575475 -0.12904165]\n",
      " [ 0.66412748  0.11443316]\n",
      " [-0.39726347 -0.49425387]\n",
      " [-0.8521453  -1.71162795]\n",
      " [-1.15539985 -1.34641572]\n",
      " [-1.15539985 -1.46815313]\n",
      " [-0.70051802 -1.22467832]\n",
      " [-0.39726347  0.23617057]\n",
      " [-1.30702713 -0.49425387]\n",
      " [-0.39726347 -0.49425387]\n",
      " [ 0.66412748 -0.25077906]\n",
      " [ 0.05761837 -0.61599128]\n",
      " [-1.00377258 -0.9812035 ]\n",
      " [-1.15539985 -1.10294091]\n",
      " [-1.15539985 -0.61599128]\n",
      " [-0.24563619 -0.37251647]\n",
      " [-0.70051802 -1.10294091]\n",
      " [-1.91353624 -1.95510276]\n",
      " [-1.00377258 -0.8594661 ]\n",
      " [-0.8521453  -0.8594661 ]\n",
      " [-0.8521453  -0.8594661 ]\n",
      " [-0.09400891 -0.73772869]\n",
      " [-1.76190896 -2.32031498]\n",
      " [-0.8521453  -0.9812035 ]\n",
      " [ 0.05761837  1.33180724]\n",
      " [-0.70051802  0.23617057]\n",
      " [ 1.27063658  1.21006983]\n",
      " [ 0.05761837  0.84485761]\n",
      " [ 0.36087292  1.08833242]\n",
      " [ 2.02877297  2.06223168]\n",
      " [-2.06516352 -0.49425387]\n",
      " [ 1.57389114  1.69701946]\n",
      " [ 0.66412748  1.08833242]\n",
      " [ 1.42226386  1.45354464]\n",
      " [ 0.36087292  0.23617057]\n",
      " [ 0.20924564  0.47964538]\n",
      " [ 0.81575475  0.7231202 ]\n",
      " [-0.8521453   0.11443316]\n",
      " [-0.70051802  0.23617057]\n",
      " [ 0.20924564  0.47964538]\n",
      " [ 0.36087292  0.7231202 ]\n",
      " [ 2.18040025  2.18396909]\n",
      " [ 2.18040025  2.4274439 ]\n",
      " [-0.39726347  0.11443316]\n",
      " [ 0.96738203  0.96659501]\n",
      " [-1.00377258 -0.00730424]\n",
      " [ 2.18040025  2.18396909]\n",
      " [ 0.05761837 -0.00730424]\n",
      " [ 0.66412748  0.96659501]\n",
      " [ 1.42226386  1.33180724]\n",
      " [-0.09400891 -0.12904165]\n",
      " [-0.24563619 -0.00730424]\n",
      " [ 0.20924564  0.84485761]\n",
      " [ 1.42226386  1.08833242]\n",
      " [ 1.72551842  1.45354464]\n",
      " [ 2.4836548   1.81875686]\n",
      " [ 0.20924564  0.84485761]\n",
      " [ 0.05761837  0.23617057]\n",
      " [-0.24563619  0.84485761]\n",
      " [ 2.18040025  1.45354464]\n",
      " [ 0.05761837  0.84485761]\n",
      " [ 0.20924564  0.7231202 ]\n",
      " [-0.39726347 -0.12904165]\n",
      " [ 0.96738203  0.60138279]\n",
      " [ 0.66412748  0.84485761]\n",
      " [ 0.96738203  0.23617057]\n",
      " [-0.70051802  0.23617057]\n",
      " [ 0.81575475  1.21006983]\n",
      " [ 0.66412748  0.96659501]\n",
      " [ 0.66412748  0.35790798]\n",
      " [ 0.05761837  0.11443316]\n",
      " [ 0.36087292  0.35790798]\n",
      " [-0.09400891  0.60138279]\n",
      " [-0.54889074  0.23617057]]\n"
     ]
    }
   ],
   "source": [
    "from sklearn.preprocessing import StandardScaler\n",
    "scaler = StandardScaler()\n",
    "print(scaler.fit(total_data))\n",
    "print(scaler.mean_)\n",
    "print('------------------------')\n",
    "print(scaler.transform(total_data))"
   ]
  },
  {
   "cell_type": "markdown",
   "id": "341b28e0",
   "metadata": {},
   "source": [
    "[Problem 5] Learning and estimation"
   ]
  },
  {
   "cell_type": "code",
   "execution_count": 78,
   "id": "268c6ac8",
   "metadata": {},
   "outputs": [
    {
     "name": "stdout",
     "output_type": "stream",
     "text": [
      "KNeighborsClassifier()\n"
     ]
    },
    {
     "ename": "ValueError",
     "evalue": "query data dimension must match training data dimension",
     "output_type": "error",
     "traceback": [
      "\u001b[0;31m---------------------------------------------------------------------------\u001b[0m",
      "\u001b[0;31mValueError\u001b[0m                                Traceback (most recent call last)",
      "\u001b[0;32m<ipython-input-78-2edb7c3c002f>\u001b[0m in \u001b[0;36m<module>\u001b[0;34m\u001b[0m\n\u001b[1;32m      3\u001b[0m \u001b[0my\u001b[0m \u001b[0;34m=\u001b[0m \u001b[0mrange\u001b[0m\u001b[0;34m(\u001b[0m\u001b[0;36m100\u001b[0m\u001b[0;34m)\u001b[0m\u001b[0;34m\u001b[0m\u001b[0;34m\u001b[0m\u001b[0m\n\u001b[1;32m      4\u001b[0m \u001b[0mprint\u001b[0m\u001b[0;34m(\u001b[0m\u001b[0mneigh\u001b[0m\u001b[0;34m.\u001b[0m\u001b[0mfit\u001b[0m\u001b[0;34m(\u001b[0m\u001b[0mtotal_data\u001b[0m\u001b[0;34m,\u001b[0m \u001b[0my\u001b[0m\u001b[0;34m)\u001b[0m\u001b[0;34m)\u001b[0m\u001b[0;34m\u001b[0m\u001b[0;34m\u001b[0m\u001b[0m\n\u001b[0;32m----> 5\u001b[0;31m \u001b[0mprint\u001b[0m\u001b[0;34m(\u001b[0m\u001b[0mneigh\u001b[0m\u001b[0;34m.\u001b[0m\u001b[0mpredict\u001b[0m\u001b[0;34m(\u001b[0m\u001b[0;34m[\u001b[0m\u001b[0;34m[\u001b[0m\u001b[0;36m1.1\u001b[0m\u001b[0;34m]\u001b[0m\u001b[0;34m]\u001b[0m\u001b[0;34m)\u001b[0m\u001b[0;34m)\u001b[0m\u001b[0;34m\u001b[0m\u001b[0;34m\u001b[0m\u001b[0m\n\u001b[0m\u001b[1;32m      6\u001b[0m \u001b[0mprint\u001b[0m\u001b[0;34m(\u001b[0m\u001b[0mneigh\u001b[0m\u001b[0;34m.\u001b[0m\u001b[0mget_params\u001b[0m\u001b[0;34m(\u001b[0m\u001b[0mtotal_data\u001b[0m\u001b[0;34m)\u001b[0m\u001b[0;34m)\u001b[0m\u001b[0;34m\u001b[0m\u001b[0;34m\u001b[0m\u001b[0m\n",
      "\u001b[0;32m~/.local/lib/python3.8/site-packages/sklearn/neighbors/_classification.py\u001b[0m in \u001b[0;36mpredict\u001b[0;34m(self, X)\u001b[0m\n\u001b[1;32m    195\u001b[0m         \u001b[0mX\u001b[0m \u001b[0;34m=\u001b[0m \u001b[0mcheck_array\u001b[0m\u001b[0;34m(\u001b[0m\u001b[0mX\u001b[0m\u001b[0;34m,\u001b[0m \u001b[0maccept_sparse\u001b[0m\u001b[0;34m=\u001b[0m\u001b[0;34m'csr'\u001b[0m\u001b[0;34m)\u001b[0m\u001b[0;34m\u001b[0m\u001b[0;34m\u001b[0m\u001b[0m\n\u001b[1;32m    196\u001b[0m \u001b[0;34m\u001b[0m\u001b[0m\n\u001b[0;32m--> 197\u001b[0;31m         \u001b[0mneigh_dist\u001b[0m\u001b[0;34m,\u001b[0m \u001b[0mneigh_ind\u001b[0m \u001b[0;34m=\u001b[0m \u001b[0mself\u001b[0m\u001b[0;34m.\u001b[0m\u001b[0mkneighbors\u001b[0m\u001b[0;34m(\u001b[0m\u001b[0mX\u001b[0m\u001b[0;34m)\u001b[0m\u001b[0;34m\u001b[0m\u001b[0;34m\u001b[0m\u001b[0m\n\u001b[0m\u001b[1;32m    198\u001b[0m         \u001b[0mclasses_\u001b[0m \u001b[0;34m=\u001b[0m \u001b[0mself\u001b[0m\u001b[0;34m.\u001b[0m\u001b[0mclasses_\u001b[0m\u001b[0;34m\u001b[0m\u001b[0;34m\u001b[0m\u001b[0m\n\u001b[1;32m    199\u001b[0m         \u001b[0m_y\u001b[0m \u001b[0;34m=\u001b[0m \u001b[0mself\u001b[0m\u001b[0;34m.\u001b[0m\u001b[0m_y\u001b[0m\u001b[0;34m\u001b[0m\u001b[0;34m\u001b[0m\u001b[0m\n",
      "\u001b[0;32m~/.local/lib/python3.8/site-packages/sklearn/neighbors/_base.py\u001b[0m in \u001b[0;36mkneighbors\u001b[0;34m(self, X, n_neighbors, return_distance)\u001b[0m\n\u001b[1;32m    720\u001b[0m             \u001b[0;32melse\u001b[0m\u001b[0;34m:\u001b[0m\u001b[0;34m\u001b[0m\u001b[0;34m\u001b[0m\u001b[0m\n\u001b[1;32m    721\u001b[0m                 \u001b[0mparallel_kwargs\u001b[0m \u001b[0;34m=\u001b[0m \u001b[0;34m{\u001b[0m\u001b[0;34m\"prefer\"\u001b[0m\u001b[0;34m:\u001b[0m \u001b[0;34m\"threads\"\u001b[0m\u001b[0;34m}\u001b[0m\u001b[0;34m\u001b[0m\u001b[0;34m\u001b[0m\u001b[0m\n\u001b[0;32m--> 722\u001b[0;31m             chunked_results = Parallel(n_jobs, **parallel_kwargs)(\n\u001b[0m\u001b[1;32m    723\u001b[0m                 delayed(_tree_query_parallel_helper)(\n\u001b[1;32m    724\u001b[0m                     self._tree, X[s], n_neighbors, return_distance)\n",
      "\u001b[0;32m~/.local/lib/python3.8/site-packages/joblib/parallel.py\u001b[0m in \u001b[0;36m__call__\u001b[0;34m(self, iterable)\u001b[0m\n\u001b[1;32m   1039\u001b[0m             \u001b[0;31m# remaining jobs.\u001b[0m\u001b[0;34m\u001b[0m\u001b[0;34m\u001b[0m\u001b[0;34m\u001b[0m\u001b[0m\n\u001b[1;32m   1040\u001b[0m             \u001b[0mself\u001b[0m\u001b[0;34m.\u001b[0m\u001b[0m_iterating\u001b[0m \u001b[0;34m=\u001b[0m \u001b[0;32mFalse\u001b[0m\u001b[0;34m\u001b[0m\u001b[0;34m\u001b[0m\u001b[0m\n\u001b[0;32m-> 1041\u001b[0;31m             \u001b[0;32mif\u001b[0m \u001b[0mself\u001b[0m\u001b[0;34m.\u001b[0m\u001b[0mdispatch_one_batch\u001b[0m\u001b[0;34m(\u001b[0m\u001b[0miterator\u001b[0m\u001b[0;34m)\u001b[0m\u001b[0;34m:\u001b[0m\u001b[0;34m\u001b[0m\u001b[0;34m\u001b[0m\u001b[0m\n\u001b[0m\u001b[1;32m   1042\u001b[0m                 \u001b[0mself\u001b[0m\u001b[0;34m.\u001b[0m\u001b[0m_iterating\u001b[0m \u001b[0;34m=\u001b[0m \u001b[0mself\u001b[0m\u001b[0;34m.\u001b[0m\u001b[0m_original_iterator\u001b[0m \u001b[0;32mis\u001b[0m \u001b[0;32mnot\u001b[0m \u001b[0;32mNone\u001b[0m\u001b[0;34m\u001b[0m\u001b[0;34m\u001b[0m\u001b[0m\n\u001b[1;32m   1043\u001b[0m \u001b[0;34m\u001b[0m\u001b[0m\n",
      "\u001b[0;32m~/.local/lib/python3.8/site-packages/joblib/parallel.py\u001b[0m in \u001b[0;36mdispatch_one_batch\u001b[0;34m(self, iterator)\u001b[0m\n\u001b[1;32m    857\u001b[0m                 \u001b[0;32mreturn\u001b[0m \u001b[0;32mFalse\u001b[0m\u001b[0;34m\u001b[0m\u001b[0;34m\u001b[0m\u001b[0m\n\u001b[1;32m    858\u001b[0m             \u001b[0;32melse\u001b[0m\u001b[0;34m:\u001b[0m\u001b[0;34m\u001b[0m\u001b[0;34m\u001b[0m\u001b[0m\n\u001b[0;32m--> 859\u001b[0;31m                 \u001b[0mself\u001b[0m\u001b[0;34m.\u001b[0m\u001b[0m_dispatch\u001b[0m\u001b[0;34m(\u001b[0m\u001b[0mtasks\u001b[0m\u001b[0;34m)\u001b[0m\u001b[0;34m\u001b[0m\u001b[0;34m\u001b[0m\u001b[0m\n\u001b[0m\u001b[1;32m    860\u001b[0m                 \u001b[0;32mreturn\u001b[0m \u001b[0;32mTrue\u001b[0m\u001b[0;34m\u001b[0m\u001b[0;34m\u001b[0m\u001b[0m\n\u001b[1;32m    861\u001b[0m \u001b[0;34m\u001b[0m\u001b[0m\n",
      "\u001b[0;32m~/.local/lib/python3.8/site-packages/joblib/parallel.py\u001b[0m in \u001b[0;36m_dispatch\u001b[0;34m(self, batch)\u001b[0m\n\u001b[1;32m    775\u001b[0m         \u001b[0;32mwith\u001b[0m \u001b[0mself\u001b[0m\u001b[0;34m.\u001b[0m\u001b[0m_lock\u001b[0m\u001b[0;34m:\u001b[0m\u001b[0;34m\u001b[0m\u001b[0;34m\u001b[0m\u001b[0m\n\u001b[1;32m    776\u001b[0m             \u001b[0mjob_idx\u001b[0m \u001b[0;34m=\u001b[0m \u001b[0mlen\u001b[0m\u001b[0;34m(\u001b[0m\u001b[0mself\u001b[0m\u001b[0;34m.\u001b[0m\u001b[0m_jobs\u001b[0m\u001b[0;34m)\u001b[0m\u001b[0;34m\u001b[0m\u001b[0;34m\u001b[0m\u001b[0m\n\u001b[0;32m--> 777\u001b[0;31m             \u001b[0mjob\u001b[0m \u001b[0;34m=\u001b[0m \u001b[0mself\u001b[0m\u001b[0;34m.\u001b[0m\u001b[0m_backend\u001b[0m\u001b[0;34m.\u001b[0m\u001b[0mapply_async\u001b[0m\u001b[0;34m(\u001b[0m\u001b[0mbatch\u001b[0m\u001b[0;34m,\u001b[0m \u001b[0mcallback\u001b[0m\u001b[0;34m=\u001b[0m\u001b[0mcb\u001b[0m\u001b[0;34m)\u001b[0m\u001b[0;34m\u001b[0m\u001b[0;34m\u001b[0m\u001b[0m\n\u001b[0m\u001b[1;32m    778\u001b[0m             \u001b[0;31m# A job can complete so quickly than its callback is\u001b[0m\u001b[0;34m\u001b[0m\u001b[0;34m\u001b[0m\u001b[0;34m\u001b[0m\u001b[0m\n\u001b[1;32m    779\u001b[0m             \u001b[0;31m# called before we get here, causing self._jobs to\u001b[0m\u001b[0;34m\u001b[0m\u001b[0;34m\u001b[0m\u001b[0;34m\u001b[0m\u001b[0m\n",
      "\u001b[0;32m~/.local/lib/python3.8/site-packages/joblib/_parallel_backends.py\u001b[0m in \u001b[0;36mapply_async\u001b[0;34m(self, func, callback)\u001b[0m\n\u001b[1;32m    206\u001b[0m     \u001b[0;32mdef\u001b[0m \u001b[0mapply_async\u001b[0m\u001b[0;34m(\u001b[0m\u001b[0mself\u001b[0m\u001b[0;34m,\u001b[0m \u001b[0mfunc\u001b[0m\u001b[0;34m,\u001b[0m \u001b[0mcallback\u001b[0m\u001b[0;34m=\u001b[0m\u001b[0;32mNone\u001b[0m\u001b[0;34m)\u001b[0m\u001b[0;34m:\u001b[0m\u001b[0;34m\u001b[0m\u001b[0;34m\u001b[0m\u001b[0m\n\u001b[1;32m    207\u001b[0m         \u001b[0;34m\"\"\"Schedule a func to be run\"\"\"\u001b[0m\u001b[0;34m\u001b[0m\u001b[0;34m\u001b[0m\u001b[0m\n\u001b[0;32m--> 208\u001b[0;31m         \u001b[0mresult\u001b[0m \u001b[0;34m=\u001b[0m \u001b[0mImmediateResult\u001b[0m\u001b[0;34m(\u001b[0m\u001b[0mfunc\u001b[0m\u001b[0;34m)\u001b[0m\u001b[0;34m\u001b[0m\u001b[0;34m\u001b[0m\u001b[0m\n\u001b[0m\u001b[1;32m    209\u001b[0m         \u001b[0;32mif\u001b[0m \u001b[0mcallback\u001b[0m\u001b[0;34m:\u001b[0m\u001b[0;34m\u001b[0m\u001b[0;34m\u001b[0m\u001b[0m\n\u001b[1;32m    210\u001b[0m             \u001b[0mcallback\u001b[0m\u001b[0;34m(\u001b[0m\u001b[0mresult\u001b[0m\u001b[0;34m)\u001b[0m\u001b[0;34m\u001b[0m\u001b[0;34m\u001b[0m\u001b[0m\n",
      "\u001b[0;32m~/.local/lib/python3.8/site-packages/joblib/_parallel_backends.py\u001b[0m in \u001b[0;36m__init__\u001b[0;34m(self, batch)\u001b[0m\n\u001b[1;32m    570\u001b[0m         \u001b[0;31m# Don't delay the application, to avoid keeping the input\u001b[0m\u001b[0;34m\u001b[0m\u001b[0;34m\u001b[0m\u001b[0;34m\u001b[0m\u001b[0m\n\u001b[1;32m    571\u001b[0m         \u001b[0;31m# arguments in memory\u001b[0m\u001b[0;34m\u001b[0m\u001b[0;34m\u001b[0m\u001b[0;34m\u001b[0m\u001b[0m\n\u001b[0;32m--> 572\u001b[0;31m         \u001b[0mself\u001b[0m\u001b[0;34m.\u001b[0m\u001b[0mresults\u001b[0m \u001b[0;34m=\u001b[0m \u001b[0mbatch\u001b[0m\u001b[0;34m(\u001b[0m\u001b[0;34m)\u001b[0m\u001b[0;34m\u001b[0m\u001b[0;34m\u001b[0m\u001b[0m\n\u001b[0m\u001b[1;32m    573\u001b[0m \u001b[0;34m\u001b[0m\u001b[0m\n\u001b[1;32m    574\u001b[0m     \u001b[0;32mdef\u001b[0m \u001b[0mget\u001b[0m\u001b[0;34m(\u001b[0m\u001b[0mself\u001b[0m\u001b[0;34m)\u001b[0m\u001b[0;34m:\u001b[0m\u001b[0;34m\u001b[0m\u001b[0;34m\u001b[0m\u001b[0m\n",
      "\u001b[0;32m~/.local/lib/python3.8/site-packages/joblib/parallel.py\u001b[0m in \u001b[0;36m__call__\u001b[0;34m(self)\u001b[0m\n\u001b[1;32m    260\u001b[0m         \u001b[0;31m# change the default number of processes to -1\u001b[0m\u001b[0;34m\u001b[0m\u001b[0;34m\u001b[0m\u001b[0;34m\u001b[0m\u001b[0m\n\u001b[1;32m    261\u001b[0m         \u001b[0;32mwith\u001b[0m \u001b[0mparallel_backend\u001b[0m\u001b[0;34m(\u001b[0m\u001b[0mself\u001b[0m\u001b[0;34m.\u001b[0m\u001b[0m_backend\u001b[0m\u001b[0;34m,\u001b[0m \u001b[0mn_jobs\u001b[0m\u001b[0;34m=\u001b[0m\u001b[0mself\u001b[0m\u001b[0;34m.\u001b[0m\u001b[0m_n_jobs\u001b[0m\u001b[0;34m)\u001b[0m\u001b[0;34m:\u001b[0m\u001b[0;34m\u001b[0m\u001b[0;34m\u001b[0m\u001b[0m\n\u001b[0;32m--> 262\u001b[0;31m             return [func(*args, **kwargs)\n\u001b[0m\u001b[1;32m    263\u001b[0m                     for func, args, kwargs in self.items]\n\u001b[1;32m    264\u001b[0m \u001b[0;34m\u001b[0m\u001b[0m\n",
      "\u001b[0;32m~/.local/lib/python3.8/site-packages/joblib/parallel.py\u001b[0m in \u001b[0;36m<listcomp>\u001b[0;34m(.0)\u001b[0m\n\u001b[1;32m    260\u001b[0m         \u001b[0;31m# change the default number of processes to -1\u001b[0m\u001b[0;34m\u001b[0m\u001b[0;34m\u001b[0m\u001b[0;34m\u001b[0m\u001b[0m\n\u001b[1;32m    261\u001b[0m         \u001b[0;32mwith\u001b[0m \u001b[0mparallel_backend\u001b[0m\u001b[0;34m(\u001b[0m\u001b[0mself\u001b[0m\u001b[0;34m.\u001b[0m\u001b[0m_backend\u001b[0m\u001b[0;34m,\u001b[0m \u001b[0mn_jobs\u001b[0m\u001b[0;34m=\u001b[0m\u001b[0mself\u001b[0m\u001b[0;34m.\u001b[0m\u001b[0m_n_jobs\u001b[0m\u001b[0;34m)\u001b[0m\u001b[0;34m:\u001b[0m\u001b[0;34m\u001b[0m\u001b[0;34m\u001b[0m\u001b[0m\n\u001b[0;32m--> 262\u001b[0;31m             return [func(*args, **kwargs)\n\u001b[0m\u001b[1;32m    263\u001b[0m                     for func, args, kwargs in self.items]\n\u001b[1;32m    264\u001b[0m \u001b[0;34m\u001b[0m\u001b[0m\n",
      "\u001b[0;32m~/.local/lib/python3.8/site-packages/sklearn/utils/fixes.py\u001b[0m in \u001b[0;36m__call__\u001b[0;34m(self, *args, **kwargs)\u001b[0m\n\u001b[1;32m    220\u001b[0m     \u001b[0;32mdef\u001b[0m \u001b[0m__call__\u001b[0m\u001b[0;34m(\u001b[0m\u001b[0mself\u001b[0m\u001b[0;34m,\u001b[0m \u001b[0;34m*\u001b[0m\u001b[0margs\u001b[0m\u001b[0;34m,\u001b[0m \u001b[0;34m**\u001b[0m\u001b[0mkwargs\u001b[0m\u001b[0;34m)\u001b[0m\u001b[0;34m:\u001b[0m\u001b[0;34m\u001b[0m\u001b[0;34m\u001b[0m\u001b[0m\n\u001b[1;32m    221\u001b[0m         \u001b[0;32mwith\u001b[0m \u001b[0mconfig_context\u001b[0m\u001b[0;34m(\u001b[0m\u001b[0;34m**\u001b[0m\u001b[0mself\u001b[0m\u001b[0;34m.\u001b[0m\u001b[0mconfig\u001b[0m\u001b[0;34m)\u001b[0m\u001b[0;34m:\u001b[0m\u001b[0;34m\u001b[0m\u001b[0;34m\u001b[0m\u001b[0m\n\u001b[0;32m--> 222\u001b[0;31m             \u001b[0;32mreturn\u001b[0m \u001b[0mself\u001b[0m\u001b[0;34m.\u001b[0m\u001b[0mfunction\u001b[0m\u001b[0;34m(\u001b[0m\u001b[0;34m*\u001b[0m\u001b[0margs\u001b[0m\u001b[0;34m,\u001b[0m \u001b[0;34m**\u001b[0m\u001b[0mkwargs\u001b[0m\u001b[0;34m)\u001b[0m\u001b[0;34m\u001b[0m\u001b[0;34m\u001b[0m\u001b[0m\n\u001b[0m",
      "\u001b[0;32m~/.local/lib/python3.8/site-packages/sklearn/neighbors/_base.py\u001b[0m in \u001b[0;36m_tree_query_parallel_helper\u001b[0;34m(tree, *args, **kwargs)\u001b[0m\n\u001b[1;32m    545\u001b[0m     \u001b[0munder\u001b[0m \u001b[0mPyPy\u001b[0m\u001b[0;34m.\u001b[0m\u001b[0;34m\u001b[0m\u001b[0;34m\u001b[0m\u001b[0m\n\u001b[1;32m    546\u001b[0m     \"\"\"\n\u001b[0;32m--> 547\u001b[0;31m     \u001b[0;32mreturn\u001b[0m \u001b[0mtree\u001b[0m\u001b[0;34m.\u001b[0m\u001b[0mquery\u001b[0m\u001b[0;34m(\u001b[0m\u001b[0;34m*\u001b[0m\u001b[0margs\u001b[0m\u001b[0;34m,\u001b[0m \u001b[0;34m**\u001b[0m\u001b[0mkwargs\u001b[0m\u001b[0;34m)\u001b[0m\u001b[0;34m\u001b[0m\u001b[0;34m\u001b[0m\u001b[0m\n\u001b[0m\u001b[1;32m    548\u001b[0m \u001b[0;34m\u001b[0m\u001b[0m\n\u001b[1;32m    549\u001b[0m \u001b[0;34m\u001b[0m\u001b[0m\n",
      "\u001b[0;32msklearn/neighbors/_binary_tree.pxi\u001b[0m in \u001b[0;36msklearn.neighbors._kd_tree.BinaryTree.query\u001b[0;34m()\u001b[0m\n",
      "\u001b[0;31mValueError\u001b[0m: query data dimension must match training data dimension"
     ]
    }
   ],
   "source": [
    "from sklearn.neighbors import KNeighborsClassifier\n",
    "neigh = KNeighborsClassifier(n_neighbors=5)\n",
    "y = range(100)\n",
    "print(neigh.fit(total_data, y))\n",
    "print(neigh.predict([[1.1]]))\n",
    "print(neigh.get_params(total_data))"
   ]
  },
  {
   "cell_type": "code",
   "execution_count": null,
   "id": "931fcbd2",
   "metadata": {},
   "outputs": [],
   "source": []
  }
 ],
 "metadata": {
  "kernelspec": {
   "display_name": "Python 3",
   "language": "python",
   "name": "python3"
  },
  "language_info": {
   "codemirror_mode": {
    "name": "ipython",
    "version": 3
   },
   "file_extension": ".py",
   "mimetype": "text/x-python",
   "name": "python",
   "nbconvert_exporter": "python",
   "pygments_lexer": "ipython3",
   "version": "3.8.5"
  }
 },
 "nbformat": 4,
 "nbformat_minor": 5
}
