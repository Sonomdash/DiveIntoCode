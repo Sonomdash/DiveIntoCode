{
 "cells": [
  {
   "cell_type": "markdown",
   "metadata": {},
   "source": [
    "The chestnut bun problem\n",
    "\n",
    "[Problem] The day when chestnut buns cover the solar system\n",
    "\n",
    "Calculate the Volume of a Sphere \n",
    "\n",
    "$V = \\frac{4}{3}*\\pi *r^3 $ "
   ]
  },
  {
   "cell_type": "code",
   "execution_count": 2,
   "metadata": {},
   "outputs": [
    {
     "name": "stdout",
     "output_type": "stream",
     "text": [
      "chestnut_bun_volume =  3.351032163829113e-14\n",
      "Years required to reach the size of the sun 1.0904495469318001e+165\n"
     ]
    }
   ],
   "source": [
    "\n",
    "import math\n",
    "radius_chestnut_bun = 0.00002 #km\n",
    "sun_volume = 1409272569059860000 #km\n",
    "\n",
    "def calculate_sphere_volume(radius):\n",
    "    volume = 4 / 3 * math.pi * radius **3 \n",
    "    return volume\n",
    "\n",
    "chestnut_bun_volume = calculate_sphere_volume(radius_chestnut_bun)\n",
    "\n",
    "print(\"chestnut_bun_volume = \", chestnut_bun_volume)\n",
    "get = chestnut_bun_volume\n",
    "minutes = 5\n",
    "x = 1 \n",
    "while True:\n",
    "    get = get * 2\n",
    "    minutes  = minutes * x \n",
    "    x= x +1\n",
    "    if get  >= sun_volume :\n",
    "        break\n",
    "years = minutes / (60 * 24 * 365)\n",
    "print(\"Years required to reach the size of the sun {}\".format(years))"
   ]
  },
  {
   "cell_type": "code",
   "execution_count": null,
   "metadata": {},
   "outputs": [],
   "source": []
  }
 ],
 "metadata": {
  "colab": {
   "name": "Untitled",
   "provenance": []
  },
  "kernelspec": {
   "display_name": "Python 3",
   "language": "python",
   "name": "python3"
  },
  "language_info": {
   "codemirror_mode": {
    "name": "ipython",
    "version": 3
   },
   "file_extension": ".py",
   "mimetype": "text/x-python",
   "name": "python",
   "nbconvert_exporter": "python",
   "pygments_lexer": "ipython3",
   "version": "3.8.5"
  }
 },
 "nbformat": 4,
 "nbformat_minor": 1
}
