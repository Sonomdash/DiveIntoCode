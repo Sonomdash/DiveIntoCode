{
 "cells": [
  {
   "cell_type": "markdown",
   "metadata": {
    "id": "H05XJmfk2KTb"
   },
   "source": [
    "\n",
    "<h4>[Problem 1] Create using the exponentiation arithmetic operator and<h4>\n",
    "$ t_{43} = t_0 * 2^{43} $\n",
    "\n",
    "$ t_0 = 0.00008 m $\n",
    "\n"
   ]
  },
  {
   "cell_type": "code",
   "execution_count": 2,
   "metadata": {
    "colab": {
     "base_uri": "https://localhost:8080/"
    },
    "id": "HDlhGWRv2J5w",
    "outputId": "7218e312-86f9-4b54-daab-f5012415f20b"
   },
   "outputs": [
    {
     "name": "stdout",
     "output_type": "stream",
     "text": [
      "Thickness: 703687441.77664 meters\n"
     ]
    }
   ],
   "source": [
    "THICKNESS = 0.00008\n",
    "\n",
    "folded_thickness = THICKNESS * 2**43\n",
    "print(\"Thickness: {} meters\".format(folded_thickness))\n",
    "\n",
    "\n"
   ]
  },
  {
   "cell_type": "markdown",
   "metadata": {},
   "source": [
    "<h3>[Problem 2] Unit Conversion<h3>"
   ]
  },
  {
   "cell_type": "code",
   "execution_count": 65,
   "metadata": {},
   "outputs": [
    {
     "name": "stdout",
     "output_type": "stream",
     "text": [
      "70368.744177664\n",
      "Thickness:  703687.44 kilometers\n"
     ]
    }
   ],
   "source": [
    "\n",
    "print(\"Thickness: {: .2f} kilometers\".format(folded_thickness/10000))"
   ]
  },
  {
   "cell_type": "markdown",
   "metadata": {
    "id": "DvWwMc_wipfS"
   },
   "source": [
    "\n",
    "<h3>[Problem 3] Create using a for statement<h3>\n",
    "\n",
    "$2^3=2×2×2$\n",
    "\n",
    "$2^5=2×2×2×2×2$"
   ]
  },
  {
   "cell_type": "code",
   "execution_count": 11,
   "metadata": {
    "colab": {
     "base_uri": "https://localhost:8080/"
    },
    "id": "48vhjVfAjKUI",
    "outputId": "758f57f5-e057-4597-8efc-fd680e362ce6"
   },
   "outputs": [
    {
     "name": "stdout",
     "output_type": "stream",
     "text": [
      "8796093022208\n",
      "8796093022208\n",
      "703687441.77664\n"
     ]
    }
   ],
   "source": [
    "THICKNESS = 0.00008\n",
    "a = 1 \n",
    "for x in range(43):\n",
    "  a = a * 2 \n",
    "folded_thickness = a * THICKNESS \n",
    "print(a)\n",
    "print(2**43)\n",
    "print(folded_thickness)"
   ]
  },
  {
   "cell_type": "markdown",
   "metadata": {},
   "source": [
    "<h3>Problem 4 Comparison of calculation time<h3>"
   ]
  },
  {
   "cell_type": "code",
   "execution_count": 60,
   "metadata": {},
   "outputs": [
    {
     "name": "stdout",
     "output_type": "stream",
     "text": [
      "CPU times: user 4 µs, sys: 0 ns, total: 4 µs\n",
      "Wall time: 8.58 µs\n",
      "CPU times: user 11 µs, sys: 1 µs, total: 12 µs\n",
      "Wall time: 16 µs\n",
      "st 8796093022208\n",
      "for 903\n",
      "time : 8796093021305[s]\n"
     ]
    }
   ],
   "source": [
    "import time\n",
    "start = time.time()\n",
    "#####\n",
    "arithmetic_time= %time 2**43\n",
    "n = 43\n",
    "for_time = %time sum(range(n))\n",
    "#####\n",
    "\n",
    "elapsed_time = arithmetic_time - for_time\n",
    "print( \"st\", st)\n",
    "print( \"for\", kit)\n",
    "print(\"time : {}[s]\".format(elapsed_time))\n",
    "\n"
   ]
  },
  {
   "cell_type": "markdown",
   "metadata": {},
   "source": [
    "<h3>[Problem 5] Saving to a list and  <h3>\n",
    "Generalizing the formula, the thickness of n-folded paper $ t_{n} $ can be expressed as follows. \n",
    "$ t_n = t_0 * 2^n $\n"
   ]
  },
  {
   "cell_type": "code",
   "execution_count": null,
   "metadata": {},
   "outputs": [],
   "source": [
    "THICKNESS = 0.00008\n",
    "list_n = []\n",
    "n = 44\n",
    "a = 1\n",
    "t =1 \n",
    "for x in range(44):\n",
    "    list_n.append(x)\n",
    "\n",
    "for x in list_n:\n",
    "    a = a * 2 \n",
    "    t = THICKNESS * a\n",
    "    list_n[x] = t\n",
    "print(list_n)"
   ]
  },
  {
   "cell_type": "markdown",
   "metadata": {},
   "source": [
    "<h3>[Problem 6] Displaying a line graph<h3>"
   ]
  },
  {
   "cell_type": "code",
   "execution_count": 15,
   "metadata": {},
   "outputs": [
    {
     "data": {
      "image/png": "[encoded data removed]",
      "text/plain": [
       "<Figure size 432x288 with 1 Axes>"
      ]
     },
     "metadata": {
      "needs_background": "light"
     },
     "output_type": "display_data"
    }
   ],
   "source": [
    "\"\"\"\n",
    "Display the graph. Title and axis label name.\n",
    "\"\"\"\n",
    "import matplotlib.pyplot as plt\n",
    "%matplotlib inline\n",
    "\n",
    "plt.title(\"thickness of folded paper\")\n",
    "plt.xlabel(\"number of folds\")\n",
    "plt.ylabel(\"thickness[m]\")\n",
    "plt.plot(list_n ) # Enter the variable name of the list in \"List name\"\n",
    "plt.show()"
   ]
  },
  {
   "cell_type": "markdown",
   "metadata": {},
   "source": [
    "<h3>[Problem 7] Customizing graphs<h3>"
   ]
  },
  {
   "cell_type": "code",
   "execution_count": 14,
   "metadata": {},
   "outputs": [
    {
     "data": {
      "image/png": "[encoded data removed]",
      "text/plain": [
       "<Figure size 432x288 with 1 Axes>"
      ]
     },
     "metadata": {
      "needs_background": "light"
     },
     "output_type": "display_data"
    }
   ],
   "source": [
    "import matplotlib.pyplot as plt\n",
    "%matplotlib inline\n",
    "\n",
    "plt.title(\"thickness of folded paper\")\n",
    "plt.xlabel(\"number of folds\")\n",
    "plt.ylabel(\"thickness[m]\")\n",
    "\n",
    "plt.tick_params(labelsize=10 )\n",
    "plt.plot(list_n ,color='blue' , linewidth=2 ,linestyle='dashed',markersize=12) # Enter the variable name of the list in \"List name\"\n",
    "plt.show()"
   ]
  },
  {
   "cell_type": "code",
   "execution_count": null,
   "metadata": {},
   "outputs": [],
   "source": []
  }
 ],
 "metadata": {
  "colab": {
   "name": "Untitled",
   "provenance": []
  },
  "kernelspec": {
   "display_name": "Python 3",
   "language": "python",
   "name": "python3"
  },
  "language_info": {
   "codemirror_mode": {
    "name": "ipython",
    "version": 3
   },
   "file_extension": ".py",
   "mimetype": "text/x-python",
   "name": "python",
   "nbconvert_exporter": "python",
   "pygments_lexer": "ipython3",
   "version": "3.8.5"
  }
 },
 "nbformat": 4,
 "nbformat_minor": 1
}
