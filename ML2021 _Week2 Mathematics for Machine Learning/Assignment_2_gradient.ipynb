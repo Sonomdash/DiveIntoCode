{
 "cells": [
  {
   "cell_type": "markdown",
   "id": "aebd4c79",
   "metadata": {},
   "source": [
    "Two-dimensional array and gradient problem\n",
    "\n",
    "Problem 1  Linear function\n",
    "\n",
    "$ y = \\frac{1}{2}x +1$"
   ]
  },
  {
   "cell_type": "code",
   "execution_count": 20,
   "id": "f5433bc3",
   "metadata": {},
   "outputs": [
    {
     "name": "stdout",
     "output_type": "stream",
     "text": [
      "[-50 -49 -48 -47 -46 -45 -44 -43 -42 -41 -40 -39 -38 -37 -36 -35 -34 -33\n",
      " -32 -31 -30 -29 -28 -27 -26 -25 -24 -23 -22 -21 -20 -19 -18 -17 -16 -15\n",
      " -14 -13 -12 -11 -10  -9  -8  -7  -6  -5  -4  -3  -2  -1   0   1   2   3\n",
      "   4   5   6   7   8   9  10  11  12  13  14  15  16  17  18  19  20  21\n",
      "  22  23  24  25  26  27  28  29  30  31  32  33  34  35  36  37  38  39\n",
      "  40  41  42  43  44  45  46  47  48  49]\n",
      "100\n",
      "y 100\n",
      "[-24.0, -23.5, -23.0, -22.5, -22.0, -21.5, -21.0, -20.5, -20.0, -19.5, -19.0, -18.5, -18.0, -17.5, -17.0, -16.5, -16.0, -15.5, -15.0, -14.5, -14.0, -13.5, -13.0, -12.5, -12.0, -11.5, -11.0, -10.5, -10.0, -9.5, -9.0, -8.5, -8.0, -7.5, -7.0, -6.5, -6.0, -5.5, -5.0, -4.5, -4.0, -3.5, -3.0, -2.5, -2.0, -1.5, -1.0, -0.5, 0.0, 0.5, 1.0, 1.5, 2.0, 2.5, 3.0, 3.5, 4.0, 4.5, 5.0, 5.5, 6.0, 6.5, 7.0, 7.5, 8.0, 8.5, 9.0, 9.5, 10.0, 10.5, 11.0, 11.5, 12.0, 12.5, 13.0, 13.5, 14.0, 14.5, 15.0, 15.5, 16.0, 16.5, 17.0, 17.5, 18.0, 18.5, 19.0, 19.5, 20.0, 20.5, 21.0, 21.5, 22.0, 22.5, 23.0, 23.5, 24.0, 24.5, 25.0, 25.5]\n"
     ]
    }
   ],
   "source": [
    "import numpy as np\n",
    "x_ndarray = np.arange(-50,50)\n",
    "y_ndarray = []\n",
    "for x in range(len(x_ndarray)):\n",
    "    y = 0.5 * x_ndarray[x] + 1\n",
    "    y_ndarray.append(y)\n",
    "print(x_ndarray)\n",
    "print(len(x_ndarray))\n",
    "print(\"y\",len(y_ndarray))\n",
    "print(y_ndarray)\n"
   ]
  },
  {
   "cell_type": "markdown",
   "id": "90e68355",
   "metadata": {},
   "source": [
    "Problem 2 Array combination"
   ]
  },
  {
   "cell_type": "code",
   "execution_count": 22,
   "id": "75ed7558",
   "metadata": {
    "scrolled": true
   },
   "outputs": [
    {
     "name": "stdout",
     "output_type": "stream",
     "text": [
      "[[-50.  -24. ]\n",
      " [-49.  -23.5]\n",
      " [-48.  -23. ]\n",
      " [-47.  -22.5]\n",
      " [-46.  -22. ]\n",
      " [-45.  -21.5]\n",
      " [-44.  -21. ]\n",
      " [-43.  -20.5]\n",
      " [-42.  -20. ]\n",
      " [-41.  -19.5]\n",
      " [-40.  -19. ]\n",
      " [-39.  -18.5]\n",
      " [-38.  -18. ]\n",
      " [-37.  -17.5]\n",
      " [-36.  -17. ]\n",
      " [-35.  -16.5]\n",
      " [-34.  -16. ]\n",
      " [-33.  -15.5]\n",
      " [-32.  -15. ]\n",
      " [-31.  -14.5]\n",
      " [-30.  -14. ]\n",
      " [-29.  -13.5]\n",
      " [-28.  -13. ]\n",
      " [-27.  -12.5]\n",
      " [-26.  -12. ]\n",
      " [-25.  -11.5]\n",
      " [-24.  -11. ]\n",
      " [-23.  -10.5]\n",
      " [-22.  -10. ]\n",
      " [-21.   -9.5]\n",
      " [-20.   -9. ]\n",
      " [-19.   -8.5]\n",
      " [-18.   -8. ]\n",
      " [-17.   -7.5]\n",
      " [-16.   -7. ]\n",
      " [-15.   -6.5]\n",
      " [-14.   -6. ]\n",
      " [-13.   -5.5]\n",
      " [-12.   -5. ]\n",
      " [-11.   -4.5]\n",
      " [-10.   -4. ]\n",
      " [ -9.   -3.5]\n",
      " [ -8.   -3. ]\n",
      " [ -7.   -2.5]\n",
      " [ -6.   -2. ]\n",
      " [ -5.   -1.5]\n",
      " [ -4.   -1. ]\n",
      " [ -3.   -0.5]\n",
      " [ -2.    0. ]\n",
      " [ -1.    0.5]\n",
      " [  0.    1. ]\n",
      " [  1.    1.5]\n",
      " [  2.    2. ]\n",
      " [  3.    2.5]\n",
      " [  4.    3. ]\n",
      " [  5.    3.5]\n",
      " [  6.    4. ]\n",
      " [  7.    4.5]\n",
      " [  8.    5. ]\n",
      " [  9.    5.5]\n",
      " [ 10.    6. ]\n",
      " [ 11.    6.5]\n",
      " [ 12.    7. ]\n",
      " [ 13.    7.5]\n",
      " [ 14.    8. ]\n",
      " [ 15.    8.5]\n",
      " [ 16.    9. ]\n",
      " [ 17.    9.5]\n",
      " [ 18.   10. ]\n",
      " [ 19.   10.5]\n",
      " [ 20.   11. ]\n",
      " [ 21.   11.5]\n",
      " [ 22.   12. ]\n",
      " [ 23.   12.5]\n",
      " [ 24.   13. ]\n",
      " [ 25.   13.5]\n",
      " [ 26.   14. ]\n",
      " [ 27.   14.5]\n",
      " [ 28.   15. ]\n",
      " [ 29.   15.5]\n",
      " [ 30.   16. ]\n",
      " [ 31.   16.5]\n",
      " [ 32.   17. ]\n",
      " [ 33.   17.5]\n",
      " [ 34.   18. ]\n",
      " [ 35.   18.5]\n",
      " [ 36.   19. ]\n",
      " [ 37.   19.5]\n",
      " [ 38.   20. ]\n",
      " [ 39.   20.5]\n",
      " [ 40.   21. ]\n",
      " [ 41.   21.5]\n",
      " [ 42.   22. ]\n",
      " [ 43.   22.5]\n",
      " [ 44.   23. ]\n",
      " [ 45.   23.5]\n",
      " [ 46.   24. ]\n",
      " [ 47.   24.5]\n",
      " [ 48.   25. ]\n",
      " [ 49.   25.5]]\n"
     ]
    }
   ],
   "source": [
    "\n",
    "stack = np.concatenate((x_ndarray,y_ndarray))\n",
    "stack_array = np.reshape(stack,(100,2),order='F')\n",
    "print(stack_array)"
   ]
  },
  {
   "cell_type": "markdown",
   "id": "02feaa29",
   "metadata": {},
   "source": [
    "<h3>Problem 3 Find the gradient<h3>\n",
    "    \n",
    "\n",
    "$gradient = \\frac{Amount of change in Y}{Amount of change in X}$"
   ]
  },
  {
   "cell_type": "code",
   "execution_count": 26,
   "id": "8736df2c",
   "metadata": {},
   "outputs": [
    {
     "name": "stdout",
     "output_type": "stream",
     "text": [
      "[0.5 0.5 0.5 0.5 0.5 0.5 0.5 0.5 0.5 0.5 0.5 0.5 0.5 0.5 0.5 0.5 0.5 0.5\n",
      " 0.5 0.5 0.5 0.5 0.5 0.5 0.5 0.5 0.5 0.5 0.5 0.5 0.5 0.5 0.5 0.5 0.5 0.5\n",
      " 0.5 0.5 0.5 0.5 0.5 0.5 0.5 0.5 0.5 0.5 0.5 0.5 0.5 0.5 0.5 0.5 0.5 0.5\n",
      " 0.5 0.5 0.5 0.5 0.5 0.5 0.5 0.5 0.5 0.5 0.5 0.5 0.5 0.5 0.5 0.5 0.5 0.5\n",
      " 0.5 0.5 0.5 0.5 0.5 0.5 0.5 0.5 0.5 0.5 0.5 0.5 0.5 0.5 0.5 0.5 0.5 0.5\n",
      " 0.5 0.5 0.5 0.5 0.5 0.5 0.5 0.5 0.5]\n"
     ]
    }
   ],
   "source": [
    "y_ndarray = np.array(y_ndarray)\n",
    "x_ndarray = np.array(x_ndarray)\n",
    "gradient_array = np.array((y_ndarray[1:] - y_ndarray[:-1])/(x_ndarray[1:] - x_ndarray[:-1]))\n",
    "print(gradient_array)"
   ]
  },
  {
   "cell_type": "markdown",
   "id": "8e1d9b12",
   "metadata": {},
   "source": [
    "<h4>Problem 4 Draw a graph<h4>"
   ]
  },
  {
   "cell_type": "code",
   "execution_count": 38,
   "id": "40814b96",
   "metadata": {},
   "outputs": [
    {
     "name": "stdout",
     "output_type": "stream",
     "text": [
      "99 99\n"
     ]
    },
    {
     "data": {
      "image/png": "[encoded data removed]",
      "text/plain": [
       "<Figure size 432x288 with 1 Axes>"
      ]
     },
     "metadata": {
      "needs_background": "light"
     },
     "output_type": "display_data"
    }
   ],
   "source": [
    "import matplotlib.pyplot as plt\n",
    "%matplotlib inline\n",
    "x = x_ndarray[1:]\n",
    "print(len(x),len(gradient_array))\n",
    "plt.ylabel(\"gradient \")\n",
    "plt.xlabel(\"x\")\n",
    "\n",
    "plt.plot(x,gradient_array,color='red' ) # Enter the variable name of the list in \"List name\"\n",
    "plt.show()"
   ]
  },
  {
   "cell_type": "markdown",
   "id": "c85184e6",
   "metadata": {},
   "source": [
    "Problem 5 Python functionalization\n",
    "\n",
    "$y = x^2  (-50 \\leq x \\leq 50) $\n",
    "\n",
    "\n",
    "$y = 2 x^2 + 2^x  (-50 \\leq x \\leq 50) $\n",
    "\n",
    "\n",
    "$y = sin(x^\\frac{1}{2})  (0 \\leq x \\leq 50) $"
   ]
  },
  {
   "cell_type": "code",
   "execution_count": 50,
   "id": "0ff227cf",
   "metadata": {},
   "outputs": [
    {
     "name": "stdout",
     "output_type": "stream",
     "text": [
      "---------- function1 ----------\n"
     ]
    },
    {
     "data": {
      "image/png": "[encoded data removed]",
      "text/plain": [
       "<Figure size 432x288 with 1 Axes>"
      ]
     },
     "metadata": {
      "needs_background": "light"
     },
     "output_type": "display_data"
    },
    {
     "name": "stdout",
     "output_type": "stream",
     "text": [
      "---------- function2 ----------\n"
     ]
    },
    {
     "data": {
      "image/png": "[encoded data removed]",
      "text/plain": [
       "<Figure size 432x288 with 1 Axes>"
      ]
     },
     "metadata": {
      "needs_background": "light"
     },
     "output_type": "display_data"
    },
    {
     "name": "stdout",
     "output_type": "stream",
     "text": [
      "---------- function3 ----------\n"
     ]
    },
    {
     "name": "stderr",
     "output_type": "stream",
     "text": [
      "<ipython-input-50-7cb8dd5e5c8e>:32: RuntimeWarning: invalid value encountered in double_scalars\n",
      "  y.append(np.sin(i**0.5))\n"
     ]
    },
    {
     "data": {
      "image/png": "[encoded data removed]",
      "text/plain": [
       "<Figure size 432x288 with 1 Axes>"
      ]
     },
     "metadata": {
      "needs_background": "light"
     },
     "output_type": "display_data"
    }
   ],
   "source": [
    "import numpy as np\n",
    "from matplotlib import pyplot as plt\n",
    "\n",
    "def compute_gradient(function, x_range=(-50, 50.1, 0.1)):\n",
    "   \n",
    "    x_range = np.arange(*x_range)\n",
    "  \n",
    "    array_y = function(x_range)\n",
    "    \n",
    "    array_xy = np.concatenate((x_range[:,np.newaxis], array_y[:,np.newaxis]), axis=1)\n",
    "    g = []\n",
    "\n",
    "    gradient= np.array((array_y[1:] - array_y[:-1])/(x_range[1:] - x_range[:-1]))\n",
    "\n",
    "  \n",
    "    return array_xy, gradient\n",
    "def function_1(array_x):\n",
    "    y = []\n",
    "    for i in array_x:\n",
    "         y.append(i *i)\n",
    "    array_y = np.array(y)\n",
    "    return array_y\n",
    "def function_2(array_x):\n",
    "    y = []\n",
    "    for i in array_x:\n",
    "         y.append(2* i * i + 2 ** i)\n",
    "    array_y = np.array(y)\n",
    "    return array_y\n",
    "def function_3(array_x):\n",
    "    y = []\n",
    "    for i in array_x:\n",
    "         y.append(np.sin(i**0.5))\n",
    "    array_y = np.array(y)\n",
    "    return array_y\n",
    "print(\"---------- function1 ----------\")\n",
    "array_xy_1, gradient_1 = compute_gradient(function_1)\n",
    "\n",
    "plt.title('Graph of y=x^2, gradient')\n",
    "\n",
    "plt.xlabel('x', color='#1C2833')\n",
    "plt.ylabel('y', color='#1C2833')\n",
    "\n",
    "plt.grid()\n",
    "plt.plot(array_xy1[:,0], array_xy1[:,1],label = \"y=x^2\")\n",
    "plt.plot(array_xy1[1:,0], gradient1,c='red',label = \"gradient\")\n",
    "plt.legend()\n",
    "plt.show()\n",
    "print(\"---------- function2 ----------\")\n",
    "array_xy2, gradient2 = compute_gradient(function_2)\n",
    "\n",
    "plt.title('Graph of y=2x^2 + 2^x, gradient')\n",
    "plt.xlabel('x', color='#d36b55')\n",
    "plt.ylabel('y', color='#e8de13')\n",
    "\n",
    "plt.grid()\n",
    "plt.plot(array_xy2[:,0], array_xy2[:,1],label = \"y=2x^2 + 2^x\")\n",
    "plt.plot(array_xy2[1:,0], gradient2,c='red',label = \"gradient\")\n",
    "plt.legend()\n",
    "plt.show()\n",
    "\n",
    "print(\"---------- function3 ----------\")\n",
    "array_xy3, gradient3 = compute_gradient(function_3)\n",
    "\n",
    "plt.title('Graph of y=sin(x^0.5), gradient')\n",
    "plt.xlabel('x', color='#1397e8')\n",
    "plt.ylabel('y', color='#cb13e8')\n",
    "\n",
    "plt.grid()\n",
    "plt.plot(array_xy3[:,0], array_xy3[:,1],label = \"y=sin(x^0.5)\")\n",
    "plt.plot(array_xy3[1:,0], gradient3,c='red',label = \"gradient\")\n",
    "plt.legend()\n",
    "plt.show()"
   ]
  },
  {
   "cell_type": "markdown",
   "id": "85ec58f2",
   "metadata": {},
   "source": [
    "Problem 6 Find the minimum value"
   ]
  },
  {
   "cell_type": "code",
   "execution_count": 55,
   "id": "6441f79d",
   "metadata": {},
   "outputs": [
    {
     "name": "stdout",
     "output_type": "stream",
     "text": [
      "---------- function1 ----------\n",
      "array_y.min =  5.048709793414476e-25\n",
      "array_y.argmin =  500\n",
      "---------- function2 ----------\n",
      "array_y.min =  0.9505505632959851\n",
      "array_y.argmin =  498\n",
      "---------- function3 ----------\n",
      "array_y.min =  nan\n",
      "array_y.argmin =  0\n"
     ]
    },
    {
     "name": "stderr",
     "output_type": "stream",
     "text": [
      "<ipython-input-50-7cb8dd5e5c8e>:32: RuntimeWarning: invalid value encountered in double_scalars\n",
      "  y.append(np.sin(i**0.5))\n"
     ]
    }
   ],
   "source": [
    "def compute_gradient_1(function, x_range=(-50, 50.1, 0.1)):\n",
    "   \n",
    "    x_range = np.arange(*x_range)\n",
    "  \n",
    "    array_y = function(x_range)\n",
    "  \n",
    "    print(\"array_y.min = \", array_y.min(axis=0))\n",
    "    print(\"array_y.argmin = \", array_y.argmin(axis=0))\n",
    "\n",
    "print(\"---------- function1 ----------\")\n",
    "array_xy1 = compute_gradient(function_1)\n",
    "#print(\"array_xy1 = \", array_xy1)\n",
    "#print(\"gradient1 = \",gradient1)\n",
    "\n",
    "print(\"---------- function2 ----------\")\n",
    "array_xy2 = compute_gradient(function_2)\n",
    "#print(\"array_xy2 = \", array_xy2)\n",
    "#print(\"gradient2 = \",gradient2)\n",
    "\n",
    "print(\"---------- function3 ----------\")\n",
    "array_xy3 = compute_gradient(function_3)"
   ]
  },
  {
   "cell_type": "code",
   "execution_count": null,
   "id": "3afc733b",
   "metadata": {},
   "outputs": [],
   "source": []
  }
 ],
 "metadata": {
  "kernelspec": {
   "display_name": "Python 3",
   "language": "python",
   "name": "python3"
  },
  "language_info": {
   "codemirror_mode": {
    "name": "ipython",
    "version": 3
   },
   "file_extension": ".py",
   "mimetype": "text/x-python",
   "name": "python",
   "nbconvert_exporter": "python",
   "pygments_lexer": "ipython3",
   "version": "3.8.5"
  }
 },
 "nbformat": 4,
 "nbformat_minor": 5
}
