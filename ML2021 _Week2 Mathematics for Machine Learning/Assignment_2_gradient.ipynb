{
 "cells": [
  {
   "cell_type": "markdown",
   "id": "aebd4c79",
   "metadata": {},
   "source": [
    "Two-dimensional array and gradient problem\n",
    "\n",
    "Problem 1  Linear function\n",
    "\n",
    "$ y = \\frac{1}{2}x +1$"
   ]
  },
  {
   "cell_type": "code",
   "execution_count": 2,
   "id": "f5433bc3",
   "metadata": {},
   "outputs": [
    {
     "name": "stdout",
     "output_type": "stream",
     "text": [
      "[-50 -49 -48 -47 -46 -45 -44 -43 -42 -41 -40 -39 -38 -37 -36 -35 -34 -33\n",
      " -32 -31 -30 -29 -28 -27 -26 -25 -24 -23 -22 -21 -20 -19 -18 -17 -16 -15\n",
      " -14 -13 -12 -11 -10  -9  -8  -7  -6  -5  -4  -3  -2  -1   0   1   2   3\n",
      "   4   5   6   7   8   9  10  11  12  13  14  15  16  17  18  19  20  21\n",
      "  22  23  24  25  26  27  28  29  30  31  32  33  34  35  36  37  38  39\n",
      "  40  41  42  43  44  45  46  47  48  49  50]\n",
      "y 101\n",
      "[-24.0, -23.5, -23.0, -22.5, -22.0, -21.5, -21.0, -20.5, -20.0, -19.5, -19.0, -18.5, -18.0, -17.5, -17.0, -16.5, -16.0, -15.5, -15.0, -14.5, -14.0, -13.5, -13.0, -12.5, -12.0, -11.5, -11.0, -10.5, -10.0, -9.5, -9.0, -8.5, -8.0, -7.5, -7.0, -6.5, -6.0, -5.5, -5.0, -4.5, -4.0, -3.5, -3.0, -2.5, -2.0, -1.5, -1.0, -0.5, 0.0, 0.5, 1.0, 1.5, 2.0, 2.5, 3.0, 3.5, 4.0, 4.5, 5.0, 5.5, 6.0, 6.5, 7.0, 7.5, 8.0, 8.5, 9.0, 9.5, 10.0, 10.5, 11.0, 11.5, 12.0, 12.5, 13.0, 13.5, 14.0, 14.5, 15.0, 15.5, 16.0, 16.5, 17.0, 17.5, 18.0, 18.5, 19.0, 19.5, 20.0, 20.5, 21.0, 21.5, 22.0, 22.5, 23.0, 23.5, 24.0, 24.5, 25.0, 25.5, 26.0]\n"
     ]
    }
   ],
   "source": [
    "import numpy as np\n",
    "x_ndarray = np.arange(-50,51)\n",
    "y_ndarray = []\n",
    "for x in range(len(x_ndarray)):\n",
    "    y = 0.5 * x_ndarray[x] + 1\n",
    "    y_ndarray.append(y)\n",
    "print(x_ndarray)\n",
    "\n",
    "print(\"y\",len(y_ndarray))\n",
    "print(y_ndarray)\n"
   ]
  },
  {
   "cell_type": "markdown",
   "id": "90e68355",
   "metadata": {},
   "source": [
    "Problem 2 Array combination"
   ]
  },
  {
   "cell_type": "code",
   "execution_count": 3,
   "id": "75ed7558",
   "metadata": {},
   "outputs": [],
   "source": [
    "\n",
    "stck = np.concatenate((x_ndarray,y_ndarray))\n",
    "n = np.reshape(stck,(101,2),order='F')\n",
    "print(n)"
   ]
  },
  {
   "cell_type": "markdown",
   "id": "02feaa29",
   "metadata": {},
   "source": [
    "<h3>Problem 3 Find the gradient<h3>\n",
    "    \n",
    "\n",
    "$gradient = \\frac{Amount of change in Y}{Amount of change in X}$"
   ]
  },
  {
   "cell_type": "code",
   "execution_count": 20,
   "id": "8736df2c",
   "metadata": {},
   "outputs": [
    {
     "name": "stdout",
     "output_type": "stream",
     "text": [
      "[ 2.08333333  2.08510638  2.08695652  2.08888889  2.09090909  2.09302326\n",
      "  2.0952381   2.09756098  2.1         2.1025641   2.10526316  2.10810811\n",
      "  2.11111111  2.11428571  2.11764706  2.12121212  2.125       2.12903226\n",
      "  2.13333333  2.13793103  2.14285714  2.14814815  2.15384615  2.16\n",
      "  2.16666667  2.17391304  2.18181818  2.19047619  2.2         2.21052632\n",
      "  2.22222222  2.23529412  2.25        2.26666667  2.28571429  2.30769231\n",
      "  2.33333333  2.36363636  2.4         2.44444444  2.5         2.57142857\n",
      "  2.66666667  2.8         3.          3.33333333  4.          6.\n",
      "        -inf -2.          0.          0.66666667  1.          1.2\n",
      "  1.33333333  1.42857143  1.5         1.55555556  1.6         1.63636364\n",
      "  1.66666667  1.69230769  1.71428571  1.73333333  1.75        1.76470588\n",
      "  1.77777778  1.78947368  1.8         1.80952381  1.81818182  1.82608696\n",
      "  1.83333333  1.84        1.84615385  1.85185185  1.85714286  1.86206897\n",
      "  1.86666667  1.87096774  1.875       1.87878788  1.88235294  1.88571429\n",
      "  1.88888889  1.89189189  1.89473684  1.8974359   1.9         1.90243902\n",
      "  1.9047619   1.90697674  1.90909091  1.91111111  1.91304348  1.91489362\n",
      "  1.91666667  1.91836735  1.92        1.92156863  1.92307692]\n",
      "101\n"
     ]
    },
    {
     "name": "stderr",
     "output_type": "stream",
     "text": [
      "<ipython-input-20-e2c17396295b>:1: RuntimeWarning: divide by zero encountered in true_divide\n",
      "  gradient_array =np.divide(x_ndarray,y_ndarray)\n"
     ]
    }
   ],
   "source": [
    "gradient_array =np.divide(x_ndarray,y_ndarray)\n",
    "\n",
    "print(gradient_array)\n",
    "print(len(gradient_array))"
   ]
  },
  {
   "cell_type": "code",
   "execution_count": null,
   "id": "27271a3d",
   "metadata": {},
   "outputs": [],
   "source": []
  }
 ],
 "metadata": {
  "kernelspec": {
   "display_name": "Python 3",
   "language": "python",
   "name": "python3"
  },
  "language_info": {
   "codemirror_mode": {
    "name": "ipython",
    "version": 3
   },
   "file_extension": ".py",
   "mimetype": "text/x-python",
   "name": "python",
   "nbconvert_exporter": "python",
   "pygments_lexer": "ipython3",
   "version": "3.8.5"
  }
 },
 "nbformat": 4,
 "nbformat_minor": 5
}
