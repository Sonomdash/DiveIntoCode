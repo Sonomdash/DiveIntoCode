{
 "cells": [
  {
   "cell_type": "markdown",
   "id": "d43e50ec",
   "metadata": {},
   "source": [
    "Two-dimensional array and gradient problem\n",
    "\n",
    "Problem 1  Linear function\n",
    "\n",
    "$ y = \\frac{1}{2}x +1$"
   ]
  },
  {
   "cell_type": "code",
   "execution_count": null,
   "id": "f5de91f9",
   "metadata": {},
   "outputs": [],
   "source": []
  }
 ],
 "metadata": {
  "kernelspec": {
   "display_name": "Python 3",
   "language": "python",
   "name": "python3"
  },
  "language_info": {
   "codemirror_mode": {
    "name": "ipython",
    "version": 3
   },
   "file_extension": ".py",
   "mimetype": "text/x-python",
   "name": "python",
   "nbconvert_exporter": "python",
   "pygments_lexer": "ipython3",
   "version": "3.8.5"
  }
 },
 "nbformat": 4,
 "nbformat_minor": 5
}
