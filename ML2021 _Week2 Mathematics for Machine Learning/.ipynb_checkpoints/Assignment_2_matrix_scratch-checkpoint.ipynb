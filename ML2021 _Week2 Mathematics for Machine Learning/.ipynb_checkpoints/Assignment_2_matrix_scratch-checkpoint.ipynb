{
 "cells": [
  {
   "cell_type": "markdown",
   "metadata": {},
   "source": [
    "<h4\n",
    "    >Matrix product\n",
    "\n",
    "\n",
    "Problem 1\n",
    "Matrix product is calculated manually<h4>\n",
    "    \n",
    "For matrix multiplication, the number of columns in the first matrix must be equal to the number of rows in the second matrix. The resulting matrix, known as the matrix product, has the number of rows of the first and the number of columns of the second matrix.\n",
    "    \n",
    " $c_{11} = -1 * 0 +2 * 0+ 3 *2 = 6$\n",
    "    \n",
    " ....................\n",
    "    \n",
    "  $c_{33} = 7 x 1 + 8 x (-8) + (-9) x (-1) = -48 $"
   ]
  },
  {
   "cell_type": "code",
   "execution_count": 5,
   "metadata": {},
   "outputs": [
    {
     "name": "stdout",
     "output_type": "stream",
     "text": [
      "[[  6.  29. -20.]\n",
      " [ 12.  52.  38.]\n",
      " [-18. -51. -48.]]\n"
     ]
    }
   ],
   "source": [
    "import numpy as np\n",
    "a_ndarray = np.array([[-1, 2, 3], [4, -5, 6], [7, 8, -9]])\n",
    "b_ndarray = np.array([[0, 2, 1], [0, 2, -8], [2, 9, -1]])\n",
    "result= np.zeros((3,3))\n",
    "\n",
    "for x in range(a_ndarray.shape[0]):\n",
    "    for y in range(a_ndarray.shape[1]):\n",
    "        for z in range(b_ndarray.shape[1]):  \n",
    "            result[x][y] += a_ndarray[x][z] *  b_ndarray[z][y]\n",
    "    \n",
    "print(result)\n",
    "\n"
   ]
  },
  {
   "cell_type": "markdown",
   "metadata": {},
   "source": [
    "Problem 2  Calculation by NumPy function"
   ]
  },
  {
   "cell_type": "code",
   "execution_count": 8,
   "metadata": {},
   "outputs": [
    {
     "name": "stdout",
     "output_type": "stream",
     "text": [
      "Matmul example [[  6  29 -20]\n",
      " [ 12  52  38]\n",
      " [-18 -51 -48]]\n",
      "Matmul example [[  6  29 -20]\n",
      " [ 12  52  38]\n",
      " [-18 -51 -48]]\n"
     ]
    }
   ],
   "source": [
    "result = np.matmul(a_ndarray,b_ndarray)\n",
    "print(\"Matmul example\",result)\n",
    "\n",
    "result = np.dot(a_ndarray,b_ndarray)\n",
    "print(\"Dot example\",result)\n"
   ]
  },
  {
   "cell_type": "markdown",
   "metadata": {},
   "source": [
    "Problem 3 Implementation of calculation of a certain element"
   ]
  },
  {
   "cell_type": "code",
   "execution_count": 43,
   "metadata": {},
   "outputs": [
    {
     "name": "stdout",
     "output_type": "stream",
     "text": [
      "[[  6.  29. -20.]\n",
      " [ 12.  52.  38.]\n",
      " [-18. -51. -48.]]\n"
     ]
    }
   ],
   "source": [
    "import numpy as np\n",
    "a_ndarray = np.array([[-1, 2, 3], [4, -5, 6], [7, 8, -9]])\n",
    "b_ndarray = np.array([[0, 2, 1], [0, 2, -8], [2, 9, -1]])\n",
    "\n",
    "def multiply_matrix(a_ndarray,b_ndarray):\n",
    "    result= np.zeros((a_ndarray.shape[0],b_ndarray.shape[0]))\n",
    "    for x in range(a_ndarray.shape[0]):\n",
    "        for y in range(a_ndarray.shape[1]):\n",
    "            for z in range(b_ndarray.shape[1]):  \n",
    "                result[x][y] += a_ndarray[x][z] *  b_ndarray[z][y]\n",
    "    \n",
    "    return result\n",
    "    \n",
    "print(multiply_matrix(a_ndarray,b_ndarray))"
   ]
  },
  {
   "cell_type": "markdown",
   "metadata": {},
   "source": [
    "Problem 4 Creating a function that performs matrix multiplication"
   ]
  },
  {
   "cell_type": "code",
   "execution_count": 44,
   "metadata": {},
   "outputs": [
    {
     "name": "stdout",
     "output_type": "stream",
     "text": [
      "[[  6.  29. -20.]\n",
      " [ 12.  52.  38.]\n",
      " [-18. -51. -48.]]\n"
     ]
    }
   ],
   "source": [
    "import numpy as np\n",
    "a_ndarray = np.array([[-1, 2, 3], [4, -5, 6], [7, 8, -9]])\n",
    "b_ndarray = np.array([[0, 2, 1], [0, 2, -8], [2, 9, -1]])\n",
    "\n",
    "def multiply_matrix(a_ndarray,b_ndarray):\n",
    "    result= np.zeros((a_ndarray.shape[0],b_ndarray.shape[0]))\n",
    "    for x in range(a_ndarray.shape[0]):\n",
    "        for y in range(a_ndarray.shape[1]):\n",
    "            for z in range(b_ndarray.shape[1]):  \n",
    "                result[x][y] += a_ndarray[x][z] *  b_ndarray[z][y]\n",
    "    \n",
    "    return result\n",
    "    \n",
    "print(multiply_matrix(a_ndarray,b_ndarray))"
   ]
  },
  {
   "cell_type": "markdown",
   "metadata": {},
   "source": [
    "Problem 5 Judge the input whose calculation is not defined"
   ]
  },
  {
   "cell_type": "code",
   "execution_count": 78,
   "metadata": {},
   "outputs": [
    {
     "name": "stdout",
     "output_type": "stream",
     "text": [
      "[[ 21 -18   1]\n",
      " [-66  57   8]]\n"
     ]
    }
   ],
   "source": [
    "import numpy as np\n",
    "\n",
    "def mul_matrices(a_ndarray, b_ndarray):\n",
    "    result = np.array([[0, 0, 0], [0, 0, 0]])\n",
    "    for x in range(len(a_ndarray)):\n",
    "        for y in range(len(b_ndarray[0])):\n",
    "            for z in range(len(b_ndarray)):\n",
    "                result[x][y] += a_ndarray[x][z] * b_ndarray[z][y]\n",
    "    return result\n",
    "\n",
    "d_ndarray_ = np.array([[-1, 2, 3], [4, -5, 6]])\n",
    "e_ndarray = np.array([[-9, 8, 7], [6, -5, 4]])\n",
    "\n",
    "print( mul_matrices(d_ndarray_, e_ndarray))\n"
   ]
  },
  {
   "cell_type": "markdown",
   "metadata": {},
   "source": [
    "Problem 6 Transposition"
   ]
  },
  {
   "cell_type": "code",
   "execution_count": 77,
   "metadata": {},
   "outputs": [
    {
     "name": "stdout",
     "output_type": "stream",
     "text": [
      "[[-9  6]\n",
      " [ 8 -5]\n",
      " [ 7  4]]\n",
      "[[ 46.  -4.   0.]\n",
      " [-34.  73.   0.]]\n"
     ]
    }
   ],
   "source": [
    "def multiply_matrix(a_ndarray,b_ndarray):\n",
    "    result= np.zeros((a_ndarray.shape[0],b_ndarray.shape[0]))\n",
    "  \n",
    "    for x in range(len(a_ndarray)):\n",
    "        for y in range(len(b_ndarray[0])):\n",
    "            for z in range(len(b_ndarray)):  \n",
    "                result[x][y] += a_ndarray[x][z] *  b_ndarray[z][y]\n",
    "   \n",
    "    return result\n",
    "\n",
    "d_ndarray_ = np.array([[-1, 2, 3], [4, -5, 6]])\n",
    "e_ndarray = np.array([[-9, 8, 7], [6, -5, 4]])\n",
    "edarray = np.transpose(e_ndarray)\n",
    "print(edarray)\n",
    "print(multiply_matrix(d_ndarray_,edarray))"
   ]
  },
  {
   "cell_type": "code",
   "execution_count": null,
   "metadata": {},
   "outputs": [],
   "source": []
  }
 ],
 "metadata": {
  "kernelspec": {
   "display_name": "Python 3",
   "language": "python",
   "name": "python3"
  },
  "language_info": {
   "codemirror_mode": {
    "name": "ipython",
    "version": 3
   },
   "file_extension": ".py",
   "mimetype": "text/x-python",
   "name": "python",
   "nbconvert_exporter": "python",
   "pygments_lexer": "ipython3",
   "version": "3.8.5"
  }
 },
 "nbformat": 4,
 "nbformat_minor": 4
}
