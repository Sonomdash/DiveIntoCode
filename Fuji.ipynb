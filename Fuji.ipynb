{
 "cells": [
  {
   "cell_type": "markdown",
   "metadata": {},
   "source": [
    "<h3>Problem 1  Minimum number of folds over Mt. Fuji<h3>\n",
    "    $t_0$ = 0.00008m\n",
    "    \n",
    "    $ t_n = t_0 * 2^n $"
   ]
  },
  {
   "cell_type": "code",
   "execution_count": 54,
   "metadata": {},
   "outputs": [
    {
     "name": "stdout",
     "output_type": "stream",
     "text": [
      "Thickness: 5368.70912 meters\n",
      "How many times do you have to bend before crossing Mount Fuji? 27\n"
     ]
    }
   ],
   "source": [
    "THICKNESS = 0.00008\n",
    "\n",
    "MT_FUJI = 3776\n",
    "paper_folding = 1\n",
    "while True:\n",
    "   \n",
    "    folded_thickness = THICKNESS * 2**paper_folding\n",
    "    paper_folding = paper_folding + 1\n",
    "    \n",
    "    if folded_thickness >=MT_FUJI:\n",
    "        break\n",
    "\n",
    "print(\"Thickness: {} meters\".format(folded_thickness))\n",
    "print(\"How many times do you have to bend before crossing Mount Fuji? {}\".format(paper_folding))\n"
   ]
  },
  {
   "cell_type": "markdown",
   "metadata": {},
   "source": [
    "Problem 2 Creating a function corresponding to an arbitrary thickness"
   ]
  },
  {
   "cell_type": "code",
   "execution_count": 19,
   "metadata": {},
   "outputs": [
    {
     "name": "stdout",
     "output_type": "stream",
     "text": [
      "Thickness: 11258999068.42624 meters, Folds 47\n"
     ]
    }
   ],
   "source": [
    "import math\n",
    "folded_thickness = 0.00008\n",
    "distance =  7500000000\n",
    "def diffractions_number(folded_thickness,distance):\n",
    "    paper_number = 0\n",
    "    while True:\n",
    "        folded_thickness = folded_thickness * 2\n",
    "        paper_number = paper_number + 1\n",
    "        if folded_thickness >= distance :\n",
    "          break\n",
    "    return folded_thickness, paper_number  \n",
    "folded_thickness ,paper_number = diffractions_number(THICKNESS ,distance)\n",
    "print(\"Thickness: {} meters, Folds {}\".format(folded_thickness ,paper_number))\n"
   ]
  },
  {
   "cell_type": "markdown",
   "metadata": {},
   "source": [
    "Problem 3 Required paper length\n",
    "$ L = \\frac{\\pi t_0}{6} (2^n + 4) (2^n - 1)$"
   ]
  },
  {
   "cell_type": "code",
   "execution_count": 25,
   "metadata": {},
   "outputs": [
    {
     "name": "stdout",
     "output_type": "stream",
     "text": [
      "To Moon : Thickness: 703687441.77664 meters, Folds 43\n",
      "To Mt. Fuji, required paper length :  4527512262495.983\n",
      "To Moon, required paper length :  1.9445516665024686e+22\n",
      "To non star b, required paper length :  4.978052266244728e+24\n"
     ]
    }
   ],
   "source": [
    "import math \n",
    "distance_moon = 384400000 #meter\n",
    "THICKNESS = 0.00008 \n",
    "\n",
    "\n",
    "folded_thickness ,paper_number = diffractions_number(THICKNESS ,distance_moon)\n",
    "print(\"To Moon : Thickness: {} meters, Folds {}\".format(folded_thickness, paper_number))\n",
    "folds_fuji = 27\n",
    "folds_moon = paper_number # 43\n",
    "folds_non_star = 47\n",
    "def paper_length(fold):\n",
    "    length = math.pi * THICKNESS * (2**fold + 4 )*(2**fold  -1 )\n",
    "    return length\n",
    "\n",
    "print(\"To Mt. Fuji, required paper length : \", paper_length( folds_fuji))\n",
    "print(\"To Moon, required paper length : \", paper_length(folds_moon))\n",
    "print(\"To non star b, required paper length : \", paper_length(folds_non_star))    "
   ]
  },
  {
   "cell_type": "code",
   "execution_count": null,
   "metadata": {},
   "outputs": [],
   "source": []
  }
 ],
 "metadata": {
  "kernelspec": {
   "display_name": "Python 3",
   "language": "python",
   "name": "python3"
  },
  "language_info": {
   "codemirror_mode": {
    "name": "ipython",
    "version": 3
   },
   "file_extension": ".py",
   "mimetype": "text/x-python",
   "name": "python",
   "nbconvert_exporter": "python",
   "pygments_lexer": "ipython3",
   "version": "3.8.5"
  }
 },
 "nbformat": 4,
 "nbformat_minor": 4
}
